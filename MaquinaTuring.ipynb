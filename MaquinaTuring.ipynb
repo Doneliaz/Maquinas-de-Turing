{
 "cells": [
  {
   "cell_type": "markdown",
   "metadata": {},
   "source": [
    "# Creacion de una maquina de Turing"
   ]
  },
  {
   "cell_type": "markdown",
   "metadata": {},
   "source": [
    "Las maquinas de turing son estructuras computacionales que se basan en una cinta infinita para la lectura y escritura de datos, es considerado un automata finito ya que tiene un limite de estados\n",
    "\n",
    "Existen varios metodos para representar las maquinas de turing en python"
   ]
  },
  {
   "cell_type": "code",
   "execution_count": null,
   "metadata": {},
   "outputs": [],
   "source": [
    "pip install automata-lib"
   ]
  },
  {
   "cell_type": "markdown",
   "metadata": {},
   "source": [
    "## Extension Automata.lib\n",
    "Automata.lib es una biblioteca de python que permite la instalacion y representacion grafica de los automatas finitos , automatas de pila , y lo mas importante , las maquinas de Turing las cuales pueden ser elaboradas de la siguiente manera:"
   ]
  },
  {
   "cell_type": "code",
   "execution_count": null,
   "metadata": {},
   "outputs": [],
   "source": [
    "from automata.tm.dtm import DTM"
   ]
  },
  {
   "cell_type": "markdown",
   "metadata": {},
   "source": [
    "Explicacion:\n",
    "El primer paso para realizar la maquina es importar los elementos de la biblioteca para definir sus parametros , ya que la maquina de turing (al igual que cualquier automata) tiene un estado incial , un conjunto de estados, y un estado final por lo que extraeremos DTM (Define Turing Machine) de la automata.lib"
   ]
  },
  {
   "cell_type": "code",
   "execution_count": null,
   "metadata": {},
   "outputs": [],
   "source": [
    "#Definir tabla de transiciones del lenguaje\n",
    "transitions = {\n",
    "    ('q0','a'):('q1','X','R')\n",
    "    ('q1','a'):('q1','a','R')\n",
    "    ('q1','b'):('q2','Y','L')\n",
    "    ('q2','a'):('q2','a','L')\n",
    "    ('q2','X'):('q0','X','R')\n",
    "    ('q0','Y'):('q_accept','Y','R')\n",
    "}"
   ]
  },
  {
   "cell_type": "markdown",
   "metadata": {},
   "source": [
    "### Creacion de la maquina de turing\n",
    "Una vez declarada la tabla de transiciones se procede a declarar los elementos de la definicion formal de una maquina de turing la cual es: M = (Q,Σ,Γ,δ,q0,B,F) (Hopcroft, 2007)."
   ]
  },
  {
   "cell_type": "code",
   "execution_count": null,
   "metadata": {},
   "outputs": [],
   "source": [
    "tm = DTM(\n",
    "    states=('q0', 'q1', 'q2', 'q_accept'),\n",
    "    input_symbols=('a','b'),\n",
    "    tape_symbols=('a','b','X','Y',''),\n",
    "    transitions=transitions,\n",
    "    initial_state='q0',\n",
    "    blank_symbol='',\n",
    "    final_states={'q-accept'}\n",
    ")"
   ]
  },
  {
   "cell_type": "markdown",
   "metadata": {},
   "source": [
    "Una vez definidos los elementos de la maquina de turing procedemos a implementar la palabra del lenguaje que deseemos "
   ]
  },
  {
   "cell_type": "code",
   "execution_count": null,
   "metadata": {},
   "outputs": [],
   "source": [
    "cinta_entrada='aaabbb'\n",
    "resultado = tm.accepts_input(cinta_entrada)\n",
    "\n",
    "print(f\"La cinta de entrada '{cinta_entrada}' es aceptada: '{resultado}'\")"
   ]
  },
  {
   "cell_type": "markdown",
   "metadata": {},
   "source": [
    "Con todo esto configurado la maquina de turing imprime un valor en la terminal"
   ]
  }
 ],
 "metadata": {
  "language_info": {
   "name": "python"
  }
 },
 "nbformat": 4,
 "nbformat_minor": 2
}
